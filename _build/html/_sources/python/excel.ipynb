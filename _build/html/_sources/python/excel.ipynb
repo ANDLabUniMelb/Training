{
 "cells": [
  {
   "cell_type": "markdown",
   "metadata": {},
   "source": [
    "# 2c. Python, Pandas & Excel\n",
    "\n",
    "Let's get on with interacting with excel and csv files through Python and Pandas. "
   ]
  },
  {
   "cell_type": "markdown",
   "metadata": {},
   "source": [
    "## Opening CSV and XLSX Files\n",
    "\n",
    "To open CSV or XLSX files (the big spreadsheets that you open in Excel), we can use the Pandas methods ``read_csv`` and ``read_excel`` to open CSV and XLSX files respectively, and assign them to a variable as a DataFrame.\n",
    "\n",
    "````` {admonition} Hint\n",
    ":class: tip\n",
    "Remember that for below, ``pd`` tells the computer to use the pandas library, and ``.read_csv`` tells the computer to use that specific function (method) from the pandas. \n",
    "1. Set a variable with a name of your choosing to ``pd.read_csv`` (or .read_xlsx for Excel files) \n",
    "2. In the brackets that follow it, type in the file location (_file path_) of the file you want to open in quotation marks ``\"\"``. \n",
    "3. The extra argument, ``header=0`` just tells the code that the first row of the spreadsheet are table names, but pandas will usually figure this out on its own.\n",
    "`````"
   ]
  },
  {
   "cell_type": "code",
   "execution_count": 2,
   "metadata": {},
   "outputs": [],
   "source": [
    "import pandas as pd\n",
    "\n",
    "df = pd.read_csv(\"/Users/davidcui/Documents/ANDLabLocal/mybook/SafetyGenData.csv\", header=0)\n",
    "\n",
    "df"
   ]
  },
  {
   "cell_type": "markdown",
   "metadata": {},
   "source": [
    "``` {info} \n",
    "\n",
    "To find the location of a file, you can right click the file on your computer and click **Get Info** (Mac) or **Properties** (Windows). On Mac, you can highlight the location and copy it. On Windows, click the Locations tab to find the same information.\n",
    "\n",
    "```\n",
    "\n",
    "``` {note}\n",
    "Mac and Linux use forward slashes ``/`` to distinguish levels of directories, whereas Windows use backslashes ``\\``. This can cause issues when you try to run code written on one platform from another. This can be addressed using the ``os`` module, detailed in the page below and later.\n",
    "```"
   ]
  },
  {
   "cell_type": "markdown",
   "metadata": {},
   "source": [
    "## Exporting to CSV or XLSX\n",
    "\n",
    "Same thing, just using ``.to_excel`` and ``.to_csv`` instead."
   ]
  },
  {
   "cell_type": "code",
   "execution_count": 1,
   "metadata": {},
   "outputs": [],
   "source": [
    "df.to_excel(\"/Users/davidcui/Documents/ANDLabLocal/testoutput.xlsx\")\n",
    "\n",
    "df.to_csv(\"/Users/davidcui/Documents/ANDLabLocal/testoutput.csv\")"
   ]
  },
  {
   "cell_type": "markdown",
   "metadata": {},
   "source": [
    "``` {admonition} Absolute vs Relative Paths\n",
    ":class: tip\n",
    "\n",
    "When setting a file path, you can either type in an absolute or relative path. \n",
    "\n",
    "* An **absolute** path is like typing out your home address to online shopping - it says exactly where you are at every level of location (e.g., country, state, suburb, street). This is like the full Christian name of your file; the code will definitely find the file, but it makes it non-flexible as if anything containing the file moves (e.g., you send your project folder to a friend), the code will not find the file. Additionally, this makes it difficult to automate anything.  \n",
    "\n",
    "\n",
    "* A **relative** path is like explaining to a friend where your house while you're in the same suburb - \"I'm just around the corner\". This is the computer equivalent of iykyk or an inside-joke; assuming the code is being run in the same local environment as the file (e.g., the same folder), the code will find the file.\n",
    "\n",
    "```\n"
   ]
  },
  {
   "cell_type": "markdown",
   "metadata": {},
   "source": [
    "## Advanced File Access\n",
    "\n",
    "For advanced file sorting and finding, you can employ the ``os`` and ``glob`` modules.\n"
   ]
  },
  {
   "cell_type": "markdown",
   "metadata": {},
   "source": [
    "\n",
    "### os module"
   ]
  },
  {
   "cell_type": "markdown",
   "metadata": {},
   "source": [
    "\n",
    "#### A. OS Agnostic File Paths\n",
    "\n",
    "To address the problem of Mac/Linux and Windows using different filepath conventions, we can use ``os.path.join``.\n",
    "\n",
    "1. Importing the module: \n",
    "\n",
    "    ``import os``\n",
    "\n",
    "2. Specifying the folder/directory that the file is in within a variable: \n",
    "\n",
    "    ``filepath = \"/user/code\"``\n",
    "\n",
    "3. Specifying the filename within a variable: \n",
    "\n",
    "    ``filename = \"data.csv``\n",
    "\n",
    "4. Create the new filepath by combining the two variables:\n",
    "\n",
    "    ``full_path = os.path.join(filepath, filename)``\n",
    "\n",
    "Example:\n",
    "```python\n",
    "import os\n",
    "\n",
    "filepath = \"/user/code\"\n",
    "filename = \"data.csv\"\n",
    "\n",
    "full_path = os.path.join(filepath, filename)\n",
    "\n",
    "```"
   ]
  },
  {
   "cell_type": "markdown",
   "metadata": {},
   "source": [
    "#### B. Automated Folder Creation\n",
    "\n",
    "```python\n",
    "import pandas as pd\n",
    "import os\n",
    "\n",
    "input_directory = '/Users/Example/Input'\n",
    "output_directory = '/Users/Example/Output'\n",
    "\n",
    "# Ensure the output directory exists\n",
    "if not os.path.exists(output_directory):\n",
    "    os.makedirs(output_directory)\n",
    "\n",
    "def check_and_create_folder(folder_path):\n",
    "    if not os.path.exists(folder_path):\n",
    "        os.makedirs(folder_path)\n",
    "        print(f\"Folder '{folder_path}' created.\")\n",
    "    else:\n",
    "        print(f\"Folder '{folder_path}' already exists.\")\n",
    "```"
   ]
  }
 ],
 "metadata": {
  "kernelspec": {
   "display_name": ".venv",
   "language": "python",
   "name": "python3"
  },
  "language_info": {
   "codemirror_mode": {
    "name": "ipython",
    "version": 3
   },
   "file_extension": ".py",
   "mimetype": "text/x-python",
   "name": "python",
   "nbconvert_exporter": "python",
   "pygments_lexer": "ipython3",
   "version": "3.13.0"
  }
 },
 "nbformat": 4,
 "nbformat_minor": 2
}
